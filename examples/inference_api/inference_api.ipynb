{
 "cells": [
  {
   "cell_type": "code",
   "execution_count": null,
   "metadata": {},
   "outputs": [],
   "source": [
    "%load_ext autoreload\n",
    "%autoreload 2"
   ]
  },
  {
   "cell_type": "code",
   "execution_count": null,
   "metadata": {},
   "outputs": [],
   "source": [
    "import pathlib\n",
    "\n",
    "from safetytooling.apis import InferenceAPI\n",
    "from safetytooling.data_models import ChatMessage, MessageRole, Prompt\n",
    "from safetytooling.utils import utils\n",
    "\n",
    "utils.setup_environment()\n",
    "# note: you can change the openai or anthropic tag to use a different API key in .env\n",
    "# e.g. to use OPENAI_API_KEY1, pass openai_tag=\"OPENAI_API_KEY1\"\n",
    "# or to use ANTHROPIC_API_KEY_BATCH, pass anthropic_tag=\"ANTHROPIC_API_KEY_BATCH\"\n",
    "\n",
    "HOME_DIR = pathlib.Path.home()\n",
    "\n",
    "API = InferenceAPI(cache_dir=HOME_DIR / \".cache\")\n",
    "API_NO_CACHE = InferenceAPI(cache_dir=None)"
   ]
  },
  {
   "cell_type": "code",
   "execution_count": null,
   "metadata": {},
   "outputs": [],
   "source": [
    "prompt = Prompt(messages=[ChatMessage(content=\"What is your name?\", role=MessageRole.user)])\n",
    "\n",
    "response = await API_NO_CACHE(\n",
    "    model_id=\"gpt-4o-mini\",\n",
    "    prompt=prompt,\n",
    "    print_prompt_and_response=True,\n",
    "    max_attempts_per_api_call=1,\n",
    ")"
   ]
  },
  {
   "cell_type": "code",
   "execution_count": null,
   "metadata": {},
   "outputs": [],
   "source": [
    "response"
   ]
  },
  {
   "cell_type": "code",
   "execution_count": null,
   "metadata": {},
   "outputs": [],
   "source": []
  }
 ],
 "metadata": {
  "kernelspec": {
   "display_name": "Python 3",
   "language": "python",
   "name": "python3"
  },
  "language_info": {
   "codemirror_mode": {
    "name": "ipython",
    "version": 3
   },
   "file_extension": ".py",
   "mimetype": "text/x-python",
   "name": "python",
   "nbconvert_exporter": "python",
   "pygments_lexer": "ipython3",
   "version": "3.11.7"
  }
 },
 "nbformat": 4,
 "nbformat_minor": 2
}
