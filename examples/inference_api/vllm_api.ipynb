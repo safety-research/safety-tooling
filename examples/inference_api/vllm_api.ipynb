{
 "cells": [
  {
   "cell_type": "code",
   "execution_count": null,
   "metadata": {},
   "outputs": [],
   "source": [
    "from safetytooling.apis import InferenceAPI\n",
    "from safetytooling.data_models import ChatMessage, MessageRole, Prompt\n",
    "from safetytooling.utils import utils\n",
    "from safetytooling.utils.vllm_utils import deploy_model_vllm_locally_auto\n",
    "\n",
    "utils.setup_environment()\n",
    "\n",
    "server = await deploy_model_vllm_locally_auto(\"meta-llama/Llama-3.1-8B-Instruct\", max_model_len=1024, max_num_seqs=32)\n",
    "API = InferenceAPI(vllm_base_url=f\"{server.base_url}/v1/chat/completions\", vllm_num_threads=32, use_vllm_if_model_not_found=True)\n",
    "prompt = Prompt(messages=[ChatMessage(content=\"What is your name?\", role=MessageRole.user)])\n",
    "\n",
    "response = await API(\n",
    "    model_id=server.model_name,\n",
    "    prompt=prompt,\n",
    "    print_prompt_and_response=True,\n",
    ")"
   ]
  },
  {
   "cell_type": "code",
   "execution_count": null,
   "metadata": {},
   "outputs": [],
   "source": []
  }
 ],
 "metadata": {
  "kernelspec": {
   "display_name": ".venv",
   "language": "python",
   "name": "python3"
  },
  "language_info": {
   "codemirror_mode": {
    "name": "ipython",
    "version": 3
   },
   "file_extension": ".py",
   "mimetype": "text/x-python",
   "name": "python",
   "nbconvert_exporter": "python",
   "pygments_lexer": "ipython3",
   "version": "3.11.11"
  }
 },
 "nbformat": 4,
 "nbformat_minor": 2
}
