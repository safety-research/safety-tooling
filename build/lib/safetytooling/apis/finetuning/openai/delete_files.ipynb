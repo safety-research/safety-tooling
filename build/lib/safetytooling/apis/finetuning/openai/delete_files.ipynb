{
 "cells": [
  {
   "cell_type": "code",
   "execution_count": null,
   "metadata": {},
   "outputs": [],
   "source": [
    "import openai\n",
    "from safetytooling.utils import utils"
   ]
  },
  {
   "cell_type": "code",
   "execution_count": null,
   "metadata": {},
   "outputs": [],
   "source": [
    "utils.setup_environment()\n",
    "client = openai.OpenAI()"
   ]
  },
  {
   "cell_type": "code",
   "execution_count": null,
   "metadata": {},
   "outputs": [],
   "source": [
    "def delete_file(file_id: str) -> None:\n",
    "    client.files.delete(file_id)\n",
    "    print(f\"Deleted file {file_id}\")\n",
    "\n",
    "\n",
    "def delete_all_files() -> None:\n",
    "    files = client.files.list().data  # type: ignore\n",
    "    for file in files:\n",
    "        try:\n",
    "            if \"results\" not in file.purpose:\n",
    "                print(f\"deleting file {file.id}\")\n",
    "                delete_file(file.id)\n",
    "        except Exception as e:\n",
    "            print(f\"Failed to delete file {file.id} with error {e}\")\n",
    "    print(\"deleted all files\")"
   ]
  },
  {
   "cell_type": "code",
   "execution_count": null,
   "metadata": {},
   "outputs": [],
   "source": [
    "delete_all_files()"
   ]
  },
  {
   "cell_type": "code",
   "execution_count": null,
   "metadata": {},
   "outputs": [],
   "source": []
  }
 ],
 "metadata": {
  "kernelspec": {
   "display_name": "Python 3",
   "language": "python",
   "name": "python3"
  },
  "language_info": {
   "codemirror_mode": {
    "name": "ipython",
    "version": 3
   },
   "file_extension": ".py",
   "mimetype": "text/x-python",
   "name": "python",
   "nbconvert_exporter": "python",
   "pygments_lexer": "ipython3",
   "version": "3.11.7"
  }
 },
 "nbformat": 4,
 "nbformat_minor": 2
}
